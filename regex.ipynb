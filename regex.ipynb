{
 "cells": [
  {
   "cell_type": "markdown",
   "metadata": {},
   "source": [
    "# Регулярные выражения"
   ]
  },
  {
   "cell_type": "markdown",
   "metadata": {},
   "source": [
    "### Задание 1:"
   ]
  },
  {
   "cell_type": "code",
   "execution_count": 1,
   "metadata": {},
   "outputs": [],
   "source": [
    "import re"
   ]
  },
  {
   "cell_type": "code",
   "execution_count": 66,
   "metadata": {},
   "outputs": [
    {
     "name": "stdout",
     "output_type": "stream",
     "text": [
      "Ввести регистрационный номер транспорта: А322АА700\n",
      "Номер А322АА валиден. Регион 700\n"
     ]
    }
   ],
   "source": [
    "# Формат рег. номера транспортного средства - 1 буква, 3 цифры, 2 буквы, 2-3 цифры.\n",
    "# Так же известно что на автомобильных номерных знаках в России используются только 12 букв, \n",
    "# которые присутствуют и в кириллице, и в латинице - А, В, Е, К, М, Н, О, Р, С, Т, У, Х.\n",
    "car_id = input('Ввести регистрационный номер транспорта: ') # Пример: А322АА70 или А322АА106\n",
    "\n",
    "def print_car_id(line):\n",
    "    \"\"\" Функция принимает на вход строку и проверяет является ли она валидным транспортным номером.\n",
    "    \"\"\"\n",
    "    regex_full_number = r'([АВЕКМНОРСТУХ]{1})(\\d{3})(?<!000)([АВЕКМНОРСТУХ]{2})(\\d{2,3})'\n",
    "    if re.match(regex_full_number, line):\n",
    "        number = ''.join(re.search(regex_full_number, line).group(1,2,3))\n",
    "        region = re.findall(r'\\d+', line)[1]\n",
    "        print(f'Номер {number} валиден. Регион {region}.')\n",
    "    else:\n",
    "        print('Номер не валиден.')\n",
    "print_car_id(car_id)        "
   ]
  },
  {
   "cell_type": "markdown",
   "metadata": {},
   "source": [
    "### Задание 2:"
   ]
  },
  {
   "cell_type": "code",
   "execution_count": 64,
   "metadata": {},
   "outputs": [
    {
     "data": {
      "text/plain": [
       "'Напишите функцию, которая будет удалять все последовательные повторы слов из заданной строки при помощи регулярных выражений.'"
      ]
     },
     "execution_count": 64,
     "metadata": {},
     "output_type": "execute_result"
    }
   ],
   "source": [
    "\n",
    "some_string = 'Напишите функцию функцию, которая будет будет будет будет удалять все все все все последовательные повторы слов из из из из заданной строки строки при помощи регулярных выражений.'\n",
    "\n",
    "def del_repetitions(string):\n",
    "    \"\"\"функция, которая будет удалять все последовательные повторы слов\n",
    "       из заданной строки при помощи регулярных выражений.\n",
    "    \"\"\"\n",
    "    return re.sub(r'(\\w+)(\\s\\1)+', r'\\1', string)\n",
    "\n",
    "del_repetitions(some_string)\n"
   ]
  },
  {
   "cell_type": "markdown",
   "metadata": {},
   "source": [
    "### Задание 3:"
   ]
  },
  {
   "cell_type": "code",
   "execution_count": 51,
   "metadata": {},
   "outputs": [
    {
     "name": "stdout",
     "output_type": "stream",
     "text": [
      "Hey Hop Hey\n"
     ]
    },
    {
     "data": {
      "text/plain": [
       "'HHH'"
      ]
     },
     "execution_count": 51,
     "metadata": {},
     "output_type": "execute_result"
    }
   ],
   "source": [
    "some_str = input('')\n",
    "\n",
    "def acronym(string):\n",
    "    \"\"\"функция, которая будет возвращать акроним по переданной в нее строке со словами.\n",
    "    \"\"\"\n",
    "    return (''.join(re.findall(r'\\b\\w', string)))\n",
    "\n",
    "acronym(some_str)\n",
    "    "
   ]
  },
  {
   "cell_type": "markdown",
   "metadata": {},
   "source": [
    "### Задание 4:"
   ]
  },
  {
   "cell_type": "code",
   "execution_count": 67,
   "metadata": {},
   "outputs": [
    {
     "name": "stdout",
     "output_type": "stream",
     "text": [
      "gmail.com: 2\n",
      "test.in: 1\n",
      "ya.ru: 2\n",
      "mail.ru: 1\n"
     ]
    }
   ],
   "source": [
    "emails = ['test@gmail.com', 'xyz@test.in', 'test@ya.ru', 'xyz@mail.ru', 'xyz@ya.ru', 'xyz@gmail.com']\n",
    "\n",
    "def count_domain_zone(domain):\n",
    "    \"\"\"функция, которая будет принимать на вход список email-адресов\n",
    "       и выводить их распределение по доменным зонам.\n",
    "    \"\"\"\n",
    "    frequency = {}\n",
    "    # emails_str = ' '.join(emails) # Преобразовываем данный список в строку.\n",
    "    # Задаем цикл с подсчетом частоты распределения по доменным зонам.\n",
    "    for domain in re.findall(r'(?<=[A-Za-z0-9_.])@([A-Za-z]+\\.[A-Za-z]+)', ' '.join(emails)):\n",
    "        frequency[domain] = frequency.get(domain,0) + 1\n",
    "        \n",
    "    for key in frequency.keys():\n",
    "        print(f'{key}: {frequency[key]}')\n",
    "                       \n",
    "count_domain_zone(emails) \n"
   ]
  },
  {
   "cell_type": "markdown",
   "metadata": {},
   "source": [
    "### Задание 5:"
   ]
  },
  {
   "cell_type": "code",
   "execution_count": 28,
   "metadata": {},
   "outputs": [
    {
     "name": "stdout",
     "output_type": "stream",
     "text": [
      "Слов на гласные буквы: 9\n",
      "Слов на согласные буквы: 21\n"
     ]
    }
   ],
   "source": [
    "some_text = '''Эталонной реализацией Python является интерпретатор CPython, поддерживающий большинство\n",
    "активно используемых платформ. Он распространяется под свободной лицензией Python Software Foundation\n",
    "License, позволяющей использовать его без ограничений в любых приложениях, включая проприетарные.'''\n",
    "\n",
    "def check_text(text):\n",
    "    \"\"\"\n",
    "    функция, которая будет подсчитывать сколько слов начинается на гласные, а сколько на согласные буквы\n",
    "    в тексте (текст может быть написан как с использованием букв кириллицы, так и латиницы).\n",
    "    \"\"\"\n",
    "    frequency_vowels = {}\n",
    "    frequency_consonants = {}\n",
    "    \n",
    "    regex_vowels = r'\\b[АЕЁИОУЫЭ-Яаеёиоуыэ-яAEIOUaeiou]'\n",
    "    regex_consonants = r'\\b[Б-ДЖЗЙ-НП-ТФ-Щб-джзй-нп-тф-щB-DF-HJ-NP-TV-Zb-df-hj-np-tv-z]'\n",
    "    \n",
    "    # Небольшое примечание: если буква Y является первой буквой в слоге,\n",
    "    # в котором есть еще какие-то буквы кроме самой Y – значит это согласная.\n",
    "    # В любом другом месте слова – гласной. Значит в нашем примере мы помешаем ее в блок согласных.\n",
    "    \n",
    "    for character in re.findall(regex_vowels, text):\n",
    "        frequency_vowels[character] = frequency_vowels.get(character,0) + 1\n",
    "            \n",
    "    for character in re.findall(regex_consonants, text):\n",
    "        frequency_consonants[character] = frequency_consonants.get(character,0) + 1\n",
    "        \n",
    "    print(f'Слов на гласные буквы: {sum(frequency_vowels.values())}')\n",
    "    print(f'Слов на согласные буквы: {sum(frequency_consonants.values())}')\n",
    "\n",
    "check_text(some_text)        "
   ]
  },
  {
   "cell_type": "markdown",
   "metadata": {},
   "source": [
    "### Задание 6:"
   ]
  },
  {
   "cell_type": "code",
   "execution_count": 110,
   "metadata": {},
   "outputs": [
    {
     "name": "stdout",
     "output_type": "stream",
     "text": [
      "Ввести номер сотового телефона(только для российского формата): 8(955)555-55-55\n",
      "+7-955-555-55-55\n"
     ]
    }
   ],
   "source": [
    "random_phone_number = input('Ввести номер сотового телефона(только для российского формата): ')\n",
    "\n",
    "def check_phone_number(some_number):\n",
    "    \"\"\"функция, которая будет проверять номер сотового телефона на валидность\n",
    "       (только для российского формата), если он валиден, то переводить его в формат:\n",
    "       +7-xxx-xxx-xx-xx\n",
    "    \"\"\"\n",
    "    regex = r'(8|\\+7|7)(\\s*)?(\\+)?([- _():=+]?\\d[- _():=+]?){10}(\\s*)?'\n",
    "#     regex = r'^((8|\\+7|7)[\\- ]?)?(\\(?\\d{3}\\)?[\\- ]?)?[\\d\\- ]{10}$'\n",
    "    if re.search(regex, some_number):\n",
    "        reg = r'\\d'\n",
    "        number = ''.join(re.findall(reg, some_number))\n",
    "        print (f'+7-{number[1:4]}-{number[4:7]}-{number[7:9]}-{number[9:11]}')\n",
    "    else:\n",
    "        print('Номер не валиден')\n",
    "check_phone_number(random_phone_number)        "
   ]
  }
 ],
 "metadata": {
  "kernelspec": {
   "display_name": "Python 3",
   "language": "python",
   "name": "python3"
  },
  "language_info": {
   "codemirror_mode": {
    "name": "ipython",
    "version": 3
   },
   "file_extension": ".py",
   "mimetype": "text/x-python",
   "name": "python",
   "nbconvert_exporter": "python",
   "pygments_lexer": "ipython3",
   "version": "3.8.5"
  }
 },
 "nbformat": 4,
 "nbformat_minor": 4
}
